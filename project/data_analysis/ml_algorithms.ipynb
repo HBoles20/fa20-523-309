{
 "cells": [
  {
   "cell_type": "code",
   "execution_count": 1,
   "metadata": {},
   "outputs": [],
   "source": [
    "# Import Libraries\n",
    "import pandas as pd\n",
    "import numpy as np\n",
    "\n",
    "import matplotlib.pyplot as plt\n",
    "\n",
    "from sklearn.preprocessing import StandardScaler\n",
    "from sklearn.model_selection import train_test_split\n",
    "from sklearn.metrics import confusion_matrix,accuracy_score,roc_curve,classification_report\n",
    "\n",
    "# Algorithms\n",
    "from sklearn.svm import SVC\n",
    "from sklearn.neighbors import KNeighborsClassifier\n",
    "from sklearn.naive_bayes import GaussianNB\n",
    "from sklearn.tree import DecisionTreeClassifier\n",
    "\n",
    "from sklearn.cluster import KMeans\n",
    "from sklearn.cluster import MeanShift\n",
    "from itertools import cycle # Meanshift plotting\n",
    "from sklearn.cluster import SpectralClustering"
   ]
  },
  {
   "cell_type": "code",
   "execution_count": 2,
   "metadata": {},
   "outputs": [],
   "source": [
    "# Import Data\n",
    "data_dav = pd.read_csv('dav_heart_disease_dataset.csv')\n",
    "data_sav = pd.read_csv('sve_cardio_dataset.csv', delimiter = ';')"
   ]
  },
  {
   "cell_type": "code",
   "execution_count": 3,
   "metadata": {},
   "outputs": [],
   "source": [
    "# Create data and target arrays\n",
    "x_dav = data_dav.drop('target', axis = 1)\n",
    "y_dav = data_dav['target']\n",
    "\n",
    "x_sav = data_sav.drop('cardio', axis = 1)\n",
    "y_sav = data_sav['cardio']\n",
    "\n",
    "# Split the data\n",
    "xtrn_dav, xtst_dav, ytrn_dav, ytst_dav = train_test_split(x_dav, y_dav, test_size=0.20, random_state = 0)\n",
    "\n",
    "xtrn_sav, xtst_sav, ytrn_sav, ytst_sav = train_test_split(x_sav, y_sav, test_size=0.20, random_state = 0)\n",
    "\n",
    "# Normalize\n",
    "dav_scaler = StandardScaler()\n",
    "xtrn_dav_n = dav_scaler.fit_transform(xtrn_dav)\n",
    "xtst_dav_n = dav_scaler.transform(xtst_dav)\n",
    "\n",
    "sav_scaler = StandardScaler()\n",
    "xtrn_sav_n = sav_scaler.fit_transform(xtrn_sav)\n",
    "xtst_sav_n = sav_scaler.transform(xtst_sav)"
   ]
  },
  {
   "cell_type": "code",
   "execution_count": null,
   "metadata": {},
   "outputs": [],
   "source": []
  },
  {
   "cell_type": "code",
   "execution_count": 4,
   "metadata": {},
   "outputs": [
    {
     "name": "stdout",
     "output_type": "stream",
     "text": [
      "Dav set\n",
      "Confusion Matrix\n",
      "[[ 92   6]\n",
      " [  1 106]]\n",
      "\n",
      "Accuracy\n",
      "96.58536585365853\n",
      "\n",
      "              precision    recall  f1-score   support\n",
      "\n",
      "           0       0.99      0.94      0.96        98\n",
      "           1       0.95      0.99      0.97       107\n",
      "\n",
      "    accuracy                           0.97       205\n",
      "   macro avg       0.97      0.96      0.97       205\n",
      "weighted avg       0.97      0.97      0.97       205\n",
      "\n",
      "Sav set\n",
      "Confusion Matrix\n",
      "[[5401 1668]\n",
      " [2158 4773]]\n",
      "\n",
      "Accuracy\n",
      "72.67142857142858\n",
      "\n",
      "              precision    recall  f1-score   support\n",
      "\n",
      "           0       0.71      0.76      0.74      7069\n",
      "           1       0.74      0.69      0.71      6931\n",
      "\n",
      "    accuracy                           0.73     14000\n",
      "   macro avg       0.73      0.73      0.73     14000\n",
      "weighted avg       0.73      0.73      0.73     14000\n",
      "\n"
     ]
    }
   ],
   "source": [
    "# SVC\n",
    "svc_dav = SVC()\n",
    "svc_dav.fit(xtrn_dav_n, ytrn_dav)\n",
    "svc_dav_predict = svc_dav.predict(xtst_dav_n)\n",
    "svc_dav_conf_mat = confusion_matrix(ytst_dav, svc_dav_predict)\n",
    "svc_dav_acc = accuracy_score(ytst_dav, svc_dav_predict)\n",
    "\n",
    "print(\"Dav set\")\n",
    "print(\"Confusion Matrix\\n{}\\n\\nAccuracy\\n{}\\n\".format(svc_dav_conf_mat, svc_dav_acc*100))\n",
    "print(classification_report(ytst_dav,svc_dav_predict))\n",
    "\n",
    "svc_sav = SVC()\n",
    "svc_sav.fit(xtrn_sav_n, ytrn_sav)\n",
    "svc_sav_predict = svc_sav.predict(xtst_sav_n)\n",
    "svc_sav_conf_mat = confusion_matrix(ytst_sav, svc_sav_predict)\n",
    "svc_sav_acc = accuracy_score(ytst_sav, svc_sav_predict)\n",
    "\n",
    "print(\"Sav set\")\n",
    "print(\"Confusion Matrix\\n{}\\n\\nAccuracy\\n{}\\n\".format(svc_sav_conf_mat, svc_sav_acc*100))\n",
    "print(classification_report(ytst_sav,svc_sav_predict))"
   ]
  },
  {
   "cell_type": "code",
   "execution_count": 5,
   "metadata": {},
   "outputs": [
    {
     "name": "stdout",
     "output_type": "stream",
     "text": [
      "Dav set\n",
      "Confusion Matrix\n",
      "[[84 14]\n",
      " [11 96]]\n",
      "\n",
      "Accuracy\n",
      "87.8048780487805\n",
      "\n",
      "              precision    recall  f1-score   support\n",
      "\n",
      "           0       0.88      0.86      0.87        98\n",
      "           1       0.87      0.90      0.88       107\n",
      "\n",
      "    accuracy                           0.88       205\n",
      "   macro avg       0.88      0.88      0.88       205\n",
      "weighted avg       0.88      0.88      0.88       205\n",
      "\n",
      "Sav set\n",
      "Confusion Matrix\n",
      "[[5232 1837]\n",
      " [3204 3727]]\n",
      "\n",
      "Accuracy\n",
      "63.99285714285714\n",
      "\n",
      "              precision    recall  f1-score   support\n",
      "\n",
      "           0       0.62      0.74      0.67      7069\n",
      "           1       0.67      0.54      0.60      6931\n",
      "\n",
      "    accuracy                           0.64     14000\n",
      "   macro avg       0.65      0.64      0.64     14000\n",
      "weighted avg       0.64      0.64      0.64     14000\n",
      "\n"
     ]
    }
   ],
   "source": [
    "# K nearest\n",
    "knn_dav = KNeighborsClassifier(n_neighbors=10)\n",
    "knn_dav.fit(xtrn_dav_n, ytrn_dav)\n",
    "knn_dav_predict = knn_dav.predict(xtst_dav_n)\n",
    "knn_dav_conf_mat = confusion_matrix(ytst_dav, knn_dav_predict)\n",
    "knn_dav_acc = accuracy_score(ytst_dav, knn_dav_predict)\n",
    "\n",
    "print(\"Dav set\")\n",
    "print(\"Confusion Matrix\\n{}\\n\\nAccuracy\\n{}\\n\".format(knn_dav_conf_mat, knn_dav_acc*100))\n",
    "print(classification_report(ytst_dav,knn_dav_predict))\n",
    "\n",
    "knn_sav = KNeighborsClassifier(n_neighbors=10)\n",
    "knn_sav.fit(xtrn_sav_n, ytrn_sav)\n",
    "knn_sav_predict = knn_sav.predict(xtst_sav_n)\n",
    "knn_sav_conf_mat = confusion_matrix(ytst_sav, knn_sav_predict)\n",
    "knn_sav_acc = accuracy_score(ytst_sav, knn_sav_predict)\n",
    "\n",
    "print(\"Sav set\")\n",
    "print(\"Confusion Matrix\\n{}\\n\\nAccuracy\\n{}\\n\".format(knn_sav_conf_mat, knn_sav_acc*100))\n",
    "print(classification_report(ytst_sav,knn_sav_predict))"
   ]
  },
  {
   "cell_type": "code",
   "execution_count": 6,
   "metadata": {},
   "outputs": [
    {
     "name": "stdout",
     "output_type": "stream",
     "text": [
      "Dav set\n",
      "Confusion Matrix\n",
      "[[79 19]\n",
      " [11 96]]\n",
      "\n",
      "Accuracy\n",
      "85.36585365853658\n",
      "\n",
      "              precision    recall  f1-score   support\n",
      "\n",
      "           0       0.88      0.81      0.84        98\n",
      "           1       0.83      0.90      0.86       107\n",
      "\n",
      "    accuracy                           0.85       205\n",
      "   macro avg       0.86      0.85      0.85       205\n",
      "weighted avg       0.86      0.85      0.85       205\n",
      "\n",
      "Sav set\n",
      "Confusion Matrix\n",
      "[[6332  737]\n",
      " [5017 1914]]\n",
      "\n",
      "Accuracy\n",
      "58.9\n",
      "\n",
      "              precision    recall  f1-score   support\n",
      "\n",
      "           0       0.56      0.90      0.69      7069\n",
      "           1       0.72      0.28      0.40      6931\n",
      "\n",
      "    accuracy                           0.59     14000\n",
      "   macro avg       0.64      0.59      0.54     14000\n",
      "weighted avg       0.64      0.59      0.54     14000\n",
      "\n"
     ]
    }
   ],
   "source": [
    "# Gaussian Naive Bayes\n",
    "gnb_dav = GaussianNB()\n",
    "gnb_dav.fit(xtrn_dav_n, ytrn_dav)\n",
    "gnb_dav_predict = gnb_dav.predict(xtst_dav_n)\n",
    "gnb_dav_conf_mat = confusion_matrix(ytst_dav, gnb_dav_predict)\n",
    "gnb_dav_acc = accuracy_score(ytst_dav, gnb_dav_predict)\n",
    "\n",
    "print(\"Dav set\")\n",
    "print(\"Confusion Matrix\\n{}\\n\\nAccuracy\\n{}\\n\".format(gnb_dav_conf_mat, gnb_dav_acc*100))\n",
    "print(classification_report(ytst_dav,gnb_dav_predict))\n",
    "\n",
    "gnb_sav = GaussianNB()\n",
    "gnb_sav.fit(xtrn_sav_n, ytrn_sav)\n",
    "gnb_sav_predict = gnb_sav.predict(xtst_sav_n)\n",
    "gnb_sav_conf_mat = confusion_matrix(ytst_sav, gnb_sav_predict)\n",
    "gnb_sav_acc = accuracy_score(ytst_sav, gnb_sav_predict)\n",
    "\n",
    "print(\"Sav set\")\n",
    "print(\"Confusion Matrix\\n{}\\n\\nAccuracy\\n{}\\n\".format(gnb_sav_conf_mat, gnb_sav_acc*100))\n",
    "print(classification_report(ytst_sav,gnb_sav_predict))"
   ]
  },
  {
   "cell_type": "code",
   "execution_count": 7,
   "metadata": {},
   "outputs": [
    {
     "name": "stdout",
     "output_type": "stream",
     "text": [
      "Dav set\n",
      "Confusion Matrix\n",
      "[[95  3]\n",
      " [ 8 99]]\n",
      "\n",
      "Accuracy\n",
      "94.6341463414634\n",
      "\n",
      "              precision    recall  f1-score   support\n",
      "\n",
      "           0       0.92      0.97      0.95        98\n",
      "           1       0.97      0.93      0.95       107\n",
      "\n",
      "    accuracy                           0.95       205\n",
      "   macro avg       0.95      0.95      0.95       205\n",
      "weighted avg       0.95      0.95      0.95       205\n",
      "\n",
      "Sav set\n",
      "Confusion Matrix\n",
      "[[5653 1416]\n",
      " [2360 4571]]\n",
      "\n",
      "Accuracy\n",
      "73.02857142857142\n",
      "\n",
      "              precision    recall  f1-score   support\n",
      "\n",
      "           0       0.71      0.80      0.75      7069\n",
      "           1       0.76      0.66      0.71      6931\n",
      "\n",
      "    accuracy                           0.73     14000\n",
      "   macro avg       0.73      0.73      0.73     14000\n",
      "weighted avg       0.73      0.73      0.73     14000\n",
      "\n"
     ]
    }
   ],
   "source": [
    "# Decision Trees\n",
    "dtre_dav = DecisionTreeClassifier(criterion = 'entropy',random_state=0,max_depth = 6)\n",
    "dtre_dav.fit(xtrn_dav_n, ytrn_dav)\n",
    "dtre_dav_predict = dtre_dav.predict(xtst_dav_n)\n",
    "dtre_dav_conf_mat = confusion_matrix(ytst_dav, dtre_dav_predict)\n",
    "dtre_dav_acc = accuracy_score(ytst_dav, dtre_dav_predict)\n",
    "\n",
    "print(\"Dav set\")\n",
    "print(\"Confusion Matrix\\n{}\\n\\nAccuracy\\n{}\\n\".format(dtre_dav_conf_mat, dtre_dav_acc*100))\n",
    "print(classification_report(ytst_dav,dtre_dav_predict))\n",
    "\n",
    "dtre_sav = DecisionTreeClassifier(criterion = 'entropy',random_state=0,max_depth = 6)\n",
    "dtre_sav.fit(xtrn_sav_n, ytrn_sav)\n",
    "dtre_sav_predict = dtre_sav.predict(xtst_sav_n)\n",
    "dtre_sav_conf_mat = confusion_matrix(ytst_sav, dtre_sav_predict)\n",
    "dtre_sav_acc = accuracy_score(ytst_sav, dtre_sav_predict)\n",
    "\n",
    "print(\"Sav set\")\n",
    "print(\"Confusion Matrix\\n{}\\n\\nAccuracy\\n{}\\n\".format(dtre_sav_conf_mat, dtre_sav_acc*100))\n",
    "print(classification_report(ytst_sav, dtre_sav_predict))"
   ]
  },
  {
   "cell_type": "code",
   "execution_count": 8,
   "metadata": {},
   "outputs": [
    {
     "name": "stdout",
     "output_type": "stream",
     "text": [
      "Dav set\n",
      "Confusion Matrix\n",
      "[[25  9 64]\n",
      " [63 40  4]\n",
      " [ 0  0  0]]\n",
      "\n",
      "Accuracy\n",
      "31.70731707317073\n",
      "\n",
      "              precision    recall  f1-score   support\n",
      "\n",
      "           0       0.28      0.26      0.27        98\n",
      "           1       0.82      0.37      0.51       107\n",
      "           2       0.00      0.00      0.00         0\n",
      "\n",
      "    accuracy                           0.32       205\n",
      "   macro avg       0.37      0.21      0.26       205\n",
      "weighted avg       0.56      0.32      0.40       205\n",
      "\n"
     ]
    },
    {
     "name": "stderr",
     "output_type": "stream",
     "text": [
      "C:\\Users\\rocke\\Miniconda3\\lib\\site-packages\\sklearn\\metrics\\_classification.py:1221: UndefinedMetricWarning: Recall and F-score are ill-defined and being set to 0.0 in labels with no true samples. Use `zero_division` parameter to control this behavior.\n",
      "  _warn_prf(average, modifier, msg_start, len(result))\n"
     ]
    },
    {
     "name": "stdout",
     "output_type": "stream",
     "text": [
      "Sav set\n",
      "Confusion Matrix\n",
      "[[ 663 2230 4176]\n",
      " [1480 2145 3306]\n",
      " [   0    0    0]]\n",
      "\n",
      "Accuracy\n",
      "20.057142857142857\n",
      "\n",
      "              precision    recall  f1-score   support\n",
      "\n",
      "           0       0.31      0.09      0.14      7069\n",
      "           1       0.49      0.31      0.38      6931\n",
      "           2       0.00      0.00      0.00         0\n",
      "\n",
      "    accuracy                           0.20     14000\n",
      "   macro avg       0.27      0.13      0.17     14000\n",
      "weighted avg       0.40      0.20      0.26     14000\n",
      "\n"
     ]
    },
    {
     "name": "stderr",
     "output_type": "stream",
     "text": [
      "C:\\Users\\rocke\\Miniconda3\\lib\\site-packages\\sklearn\\metrics\\_classification.py:1221: UndefinedMetricWarning: Recall and F-score are ill-defined and being set to 0.0 in labels with no true samples. Use `zero_division` parameter to control this behavior.\n",
      "  _warn_prf(average, modifier, msg_start, len(result))\n"
     ]
    }
   ],
   "source": [
    "# K Means\n",
    "kmean_dav = KMeans(n_clusters = 3, random_state = 9)\n",
    "kmean_dav.fit(xtrn_dav_n, ytrn_dav)\n",
    "kmean_dav_predict = kmean_dav.predict(xtst_dav_n)\n",
    "kmean_dav_conf_mat = confusion_matrix(ytst_dav, kmean_dav_predict)\n",
    "kmean_dav_acc = accuracy_score(ytst_dav, kmean_dav_predict)\n",
    "\n",
    "print(\"Dav set\")\n",
    "print(\"Confusion Matrix\\n{}\\n\\nAccuracy\\n{}\\n\".format(kmean_dav_conf_mat, kmean_dav_acc*100))\n",
    "print(classification_report(ytst_dav, kmean_dav_predict))\n",
    "\n",
    "kmean_sav = KMeans(n_clusters = 3, random_state = 9)\n",
    "kmean_sav.fit(xtrn_sav_n, ytrn_sav)\n",
    "kmean_sav_predict = kmean_sav.predict(xtst_sav_n)\n",
    "kmean_sav_conf_mat = confusion_matrix(ytst_sav, kmean_sav_predict)\n",
    "kmean_sav_acc = accuracy_score(ytst_sav, kmean_sav_predict)\n",
    "\n",
    "print(\"Sav set\")\n",
    "print(\"Confusion Matrix\\n{}\\n\\nAccuracy\\n{}\\n\".format(kmean_sav_conf_mat, kmean_sav_acc*100))\n",
    "print(classification_report(ytst_sav, kmean_sav_predict))"
   ]
  },
  {
   "cell_type": "code",
   "execution_count": 9,
   "metadata": {},
   "outputs": [
    {
     "data": {
      "text/plain": [
       "'\\nms_dav = MeanShift(bandwidth=bandwidth, bin_seeding=True)\\nms_dav.fit(xtrn_dav)\\nlabels = ms_dav.labels_\\ncluster_centers = ms_dav.cluster_centers_\\n\\nlabels_unique = np.unique(labels)\\nn_clusters_ = len(labels_unique)\\n\\nprint(\"number of estimated clusters : %d\" % n_clusters_)\\nplt.figure(1)\\nplt.clf()\\n\\ncolors = cycle(\\'bgrcmykbgrcmykbgrcmykbgrcmyk\\')\\nfor k, col in zip(range(n_clusters_), colors):\\n    my_members = labels == k\\n    cluster_center = cluster_centers[k]\\n    plt.plot(X[my_members, 0], X[my_members, 1], col + \\'.\\')\\n    plt.plot(cluster_center[0], cluster_center[1], \\'o\\', markerfacecolor=col,\\n             markeredgecolor=\\'k\\', markersize=14)\\nplt.title(\\'Dav set Estimated number of clusters: %d\\' % n_clusters_)\\nplt.show()\\n'"
      ]
     },
     "execution_count": 9,
     "metadata": {},
     "output_type": "execute_result"
    }
   ],
   "source": [
    "# Mean-Shift - Implementation in progress\n",
    "'''\n",
    "ms_dav = MeanShift(bandwidth=bandwidth, bin_seeding=True)\n",
    "ms_dav.fit(xtrn_dav)\n",
    "labels = ms_dav.labels_\n",
    "cluster_centers = ms_dav.cluster_centers_\n",
    "\n",
    "labels_unique = np.unique(labels)\n",
    "n_clusters_ = len(labels_unique)\n",
    "\n",
    "print(\"number of estimated clusters : %d\" % n_clusters_)\n",
    "plt.figure(1)\n",
    "plt.clf()\n",
    "\n",
    "colors = cycle('bgrcmykbgrcmykbgrcmykbgrcmyk')\n",
    "for k, col in zip(range(n_clusters_), colors):\n",
    "    my_members = labels == k\n",
    "    cluster_center = cluster_centers[k]\n",
    "    plt.plot(X[my_members, 0], X[my_members, 1], col + '.')\n",
    "    plt.plot(cluster_center[0], cluster_center[1], 'o', markerfacecolor=col,\n",
    "             markeredgecolor='k', markersize=14)\n",
    "plt.title('Dav set Estimated number of clusters: %d' % n_clusters_)\n",
    "plt.show()\n",
    "'''\n"
   ]
  },
  {
   "cell_type": "code",
   "execution_count": 10,
   "metadata": {},
   "outputs": [],
   "source": [
    "# Spectral Clustering"
   ]
  }
 ],
 "metadata": {
  "kernelspec": {
   "display_name": "Python 3",
   "language": "python",
   "name": "python3"
  },
  "language_info": {
   "codemirror_mode": {
    "name": "ipython",
    "version": 3
   },
   "file_extension": ".py",
   "mimetype": "text/x-python",
   "name": "python",
   "nbconvert_exporter": "python",
   "pygments_lexer": "ipython3",
   "version": "3.7.9"
  }
 },
 "nbformat": 4,
 "nbformat_minor": 4
}
